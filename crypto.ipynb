{
 "cells": [
  {
   "cell_type": "markdown",
   "metadata": {},
   "source": [
    "# Crypto-Currency Prediction System\n",
    "In this project, I will leveraging the power of Keras and TensorFlow, to employ advanced machine learning techniques, particularly deep learning, to develop a robust predictive model for cryptocurrency prices, aiming to provide valuable insights and enhance decision-making in the dynamic and volatile cryptocurrency market."
   ]
  },
  {
   "cell_type": "markdown",
   "metadata": {},
   "source": [
    "## Business Understanding\n",
    "In the rapidly evolving landscape of digital assets, accurate prediction of cryptocurrency prices holds immense significance for investors, traders, and financial institutions. Cryptocurrency markets are known for their volatility, influenced by a myriad of factors such as market sentiment, global economic indicators, and technological developments within the blockchain space. \n",
    "\n",
    "The ability to forecast price movements enables stakeholders to make informed decisions, optimize trading strategies, and manage risk effectively. This project's, main goal is to leverage machine learning techniques, specifically deep learning, to develop a predictive model for cryptocurrency prices. By understanding and interpreting the underlying patterns in historical price data, my aim is to provide valuable insights that contribute to more informed decision-making in the world of cryptocurrency trading."
   ]
  },
  {
   "cell_type": "markdown",
   "metadata": {},
   "source": [
    "## Problem Statement\n",
    "As the cryptocurrency market continues to experience unprecedented volatility, there is an increasing demand for accurate and timely predictions of digital asset prices. Existing approaches often fall short in capturing the intricate patterns and nonlinear relationships within the market, hindering the ability of investors and traders to make informed decisions. My project addresses this challenge by utilizing Keras and TensorFlow, to develop a reliable cryptocurrency price prediction model. \n",
    "\n",
    "The goal is to create a solution that not only enhances my understanding of market dynamics but also empowers stakeholders with actionable insights, ultimately contributing to more effective decision-making in the fast-paced and ever-changing cryptocurrency landscape"
   ]
  },
  {
   "cell_type": "markdown",
   "metadata": {},
   "source": [
    "### Objectives\n",
    "\n",
    "#### 1. Main Objective:\n",
    "   - To develop a robust cryptocurrency price prediction model:**\n",
    "     - Implement a machine learning model using Keras and TensorFlow that accurately predicts cryptocurrency prices.\n",
    "     - Focus on capturing complex patterns and trends within the market to enhance the model's predictive power.\n",
    "\n",
    "#### 2. Secondary Objectives:\n",
    "\n",
    "   - **To evaluate model performance and generalization:**\n",
    "     - Assess the performance of the developed model on historical data not used during training (validation set).\n",
    "     - Employ appropriate evaluation metrics, such as mean absolute error (MAE) or root mean square error (RMSE), to measure the model's accuracy.\n",
    "\n",
    "   - **To explore feature importance and insights:**\n",
    "     - Analyze the importance of different features in the model's predictions.\n",
    "     - Gain insights into the factors driving cryptocurrency price movements, potentially identifying key indicators for future predictions.\n",
    "\n",
    "#### 3. To explore and identify the most volatile cryptocurrency:\n",
    "**Identify the Most Volatile Cryptocurrency:**\n",
    "  - Analyze price volatility over time to identify the cryptocurrency exhibiting the highest degree of price fluctuations.\n"
   ]
  },
  {
   "cell_type": "markdown",
   "metadata": {},
   "source": [
    "## Data Understanding\n",
    "There are two sets of data, `archive.zip` and `daily.zip`. The former contains daily price movements of six popular cryptocurrencies namely; Bitcoin (BTC), Ethereum (ETH), Ripple (XRP), and Litecoin (LTC) from January 1, 2018, to May 31, 2023. \n",
    "\n",
    "Columns:\n",
    "* **Crypto**: This column specifies the name of the cryptocurrency (e.g., BTC, ETH, XRP, LTC).\n",
    "* **Date**: The date on which the price data was recorded.\n",
    "* **Open**: The opening price of the cryptocurrency at the beginning of the day.\n",
    "* **High**: The highest price reached by the cryptocurrency during the day.\n",
    "* **Low**: The lowest price reached by the cryptocurrency during the day.\n",
    "* **Close**: The closing price of the cryptocurrency at the end of the day.\n",
    "\n",
    "`Daily.zip` also contains one csv file for each of the top 50 crypto coins by Market Capitalization from January 1, 2015, to January 21, 2024. \n",
    "\n",
    "Columns:\n",
    "* **date** : date of observation - the price is taken at 00:00:00 hours\n",
    "* **price** : Price at the given date and time\n",
    "* **total_volume** : volume of transactions on the given day\n",
    "* **market_cap** : Market capitalization in USD\n",
    "\n",
    "**Acknowledgements**\n",
    "\n",
    "`Daily.zip` is taken from CoinGecko API and so please check with their terms of usage for using it in your projects.\n",
    "\n",
    "And also Both these files were sourced from kaggle.\n",
    "\n",
    "\n",
    "\n"
   ]
  },
  {
   "cell_type": "markdown",
   "metadata": {},
   "source": [
    "With a bit of an introduction to our datasets, we'll now import the libraries we'll be using in this study."
   ]
  },
  {
   "cell_type": "code",
   "execution_count": 1,
   "metadata": {},
   "outputs": [],
   "source": [
    "import pandas as pd\n",
    "import numpy as np \n",
    "import matplotlib.pyplot as plt \n",
    "\n",
    "%matplotlib inline"
   ]
  },
  {
   "cell_type": "code",
   "execution_count": 2,
   "metadata": {},
   "outputs": [],
   "source": [
    "#lets load our datasets\n",
    "combine = pd.read_csv('./data/crypto_combine.csv')\n",
    "btc = pd.read_csv('./data/BTC.csv')\n",
    "eth = pd.read_csv('./data/ETH.csv')"
   ]
  },
  {
   "cell_type": "code",
   "execution_count": 6,
   "metadata": {},
   "outputs": [
    {
     "name": "stdout",
     "output_type": "stream",
     "text": [
      "<class 'pandas.core.frame.DataFrame'>\n",
      "RangeIndex: 7899 entries, 0 to 7898\n",
      "Data columns (total 6 columns):\n",
      " #   Column  Non-Null Count  Dtype  \n",
      "---  ------  --------------  -----  \n",
      " 0   Crypto  7899 non-null   object \n",
      " 1   Date    7899 non-null   object \n",
      " 2   Open    7899 non-null   float64\n",
      " 3   High    7899 non-null   float64\n",
      " 4   Low     7899 non-null   float64\n",
      " 5   Close   7899 non-null   float64\n",
      "dtypes: float64(4), object(2)\n",
      "memory usage: 370.4+ KB\n"
     ]
    }
   ],
   "source": [
    "combine.info()"
   ]
  },
  {
   "cell_type": "code",
   "execution_count": 7,
   "metadata": {},
   "outputs": [
    {
     "name": "stdout",
     "output_type": "stream",
     "text": [
      "<class 'pandas.core.frame.DataFrame'>\n",
      "RangeIndex: 1974 entries, 0 to 1973\n",
      "Data columns (total 6 columns):\n",
      " #   Column  Non-Null Count  Dtype  \n",
      "---  ------  --------------  -----  \n",
      " 0   Crypto  1974 non-null   object \n",
      " 1   Date    1974 non-null   object \n",
      " 2   Open    1974 non-null   float64\n",
      " 3   High    1974 non-null   float64\n",
      " 4   Low     1974 non-null   float64\n",
      " 5   Close   1974 non-null   float64\n",
      "dtypes: float64(4), object(2)\n",
      "memory usage: 92.7+ KB\n"
     ]
    }
   ],
   "source": [
    "btc.info()"
   ]
  },
  {
   "cell_type": "markdown",
   "metadata": {},
   "source": [
    "We'll continue with crypto-combine.csv because it seems that it contains the rest of the data from individual files."
   ]
  },
  {
   "cell_type": "code",
   "execution_count": 8,
   "metadata": {},
   "outputs": [
    {
     "data": {
      "text/plain": [
       "(7899, 6)"
      ]
     },
     "execution_count": 8,
     "metadata": {},
     "output_type": "execute_result"
    }
   ],
   "source": [
    "combine.shape"
   ]
  },
  {
   "cell_type": "code",
   "execution_count": 10,
   "metadata": {},
   "outputs": [
    {
     "data": {
      "text/plain": [
       "array(['BTC', 'ETH', 'LTC', 'XRP'], dtype=object)"
      ]
     },
     "execution_count": 10,
     "metadata": {},
     "output_type": "execute_result"
    }
   ],
   "source": [
    "combine['Crypto'].unique()"
   ]
  },
  {
   "cell_type": "code",
   "execution_count": 11,
   "metadata": {},
   "outputs": [
    {
     "name": "stdout",
     "output_type": "stream",
     "text": [
      "<class 'pandas.core.frame.DataFrame'>\n",
      "RangeIndex: 7899 entries, 0 to 7898\n",
      "Data columns (total 6 columns):\n",
      " #   Column  Non-Null Count  Dtype         \n",
      "---  ------  --------------  -----         \n",
      " 0   Crypto  7899 non-null   object        \n",
      " 1   Date    7899 non-null   datetime64[ns]\n",
      " 2   Open    7899 non-null   float64       \n",
      " 3   High    7899 non-null   float64       \n",
      " 4   Low     7899 non-null   float64       \n",
      " 5   Close   7899 non-null   float64       \n",
      "dtypes: datetime64[ns](1), float64(4), object(1)\n",
      "memory usage: 370.4+ KB\n"
     ]
    }
   ],
   "source": [
    "#convert date column\n",
    "combine['Date'] = pd.to_datetime(combine['Date'])\n",
    "combine.info()"
   ]
  },
  {
   "cell_type": "code",
   "execution_count": 12,
   "metadata": {},
   "outputs": [
    {
     "data": {
      "text/html": [
       "<div>\n",
       "<style scoped>\n",
       "    .dataframe tbody tr th:only-of-type {\n",
       "        vertical-align: middle;\n",
       "    }\n",
       "\n",
       "    .dataframe tbody tr th {\n",
       "        vertical-align: top;\n",
       "    }\n",
       "\n",
       "    .dataframe thead th {\n",
       "        text-align: right;\n",
       "    }\n",
       "</style>\n",
       "<table border=\"1\" class=\"dataframe\">\n",
       "  <thead>\n",
       "    <tr style=\"text-align: right;\">\n",
       "      <th></th>\n",
       "      <th>Crypto</th>\n",
       "      <th>Open</th>\n",
       "      <th>High</th>\n",
       "      <th>Low</th>\n",
       "      <th>Close</th>\n",
       "    </tr>\n",
       "    <tr>\n",
       "      <th>Date</th>\n",
       "      <th></th>\n",
       "      <th></th>\n",
       "      <th></th>\n",
       "      <th></th>\n",
       "      <th></th>\n",
       "    </tr>\n",
       "  </thead>\n",
       "  <tbody>\n",
       "    <tr>\n",
       "      <th>2019-12-31</th>\n",
       "      <td>BTC</td>\n",
       "      <td>7254.0</td>\n",
       "      <td>7309.0</td>\n",
       "      <td>7132.0</td>\n",
       "      <td>7171.0</td>\n",
       "    </tr>\n",
       "    <tr>\n",
       "      <th>2019-12-30</th>\n",
       "      <td>BTC</td>\n",
       "      <td>7402.0</td>\n",
       "      <td>7430.0</td>\n",
       "      <td>7217.0</td>\n",
       "      <td>7254.0</td>\n",
       "    </tr>\n",
       "    <tr>\n",
       "      <th>2019-12-29</th>\n",
       "      <td>BTC</td>\n",
       "      <td>7334.0</td>\n",
       "      <td>7529.0</td>\n",
       "      <td>7295.0</td>\n",
       "      <td>7402.0</td>\n",
       "    </tr>\n",
       "    <tr>\n",
       "      <th>2019-12-28</th>\n",
       "      <td>BTC</td>\n",
       "      <td>7235.0</td>\n",
       "      <td>7359.0</td>\n",
       "      <td>7235.0</td>\n",
       "      <td>7334.0</td>\n",
       "    </tr>\n",
       "    <tr>\n",
       "      <th>2019-12-27</th>\n",
       "      <td>BTC</td>\n",
       "      <td>7208.0</td>\n",
       "      <td>7267.0</td>\n",
       "      <td>7087.0</td>\n",
       "      <td>7235.0</td>\n",
       "    </tr>\n",
       "  </tbody>\n",
       "</table>\n",
       "</div>"
      ],
      "text/plain": [
       "           Crypto    Open    High     Low   Close\n",
       "Date                                             \n",
       "2019-12-31    BTC  7254.0  7309.0  7132.0  7171.0\n",
       "2019-12-30    BTC  7402.0  7430.0  7217.0  7254.0\n",
       "2019-12-29    BTC  7334.0  7529.0  7295.0  7402.0\n",
       "2019-12-28    BTC  7235.0  7359.0  7235.0  7334.0\n",
       "2019-12-27    BTC  7208.0  7267.0  7087.0  7235.0"
      ]
     },
     "execution_count": 12,
     "metadata": {},
     "output_type": "execute_result"
    }
   ],
   "source": [
    "combine.set_index('Date', inplace=True)\n",
    "combine.head()"
   ]
  },
  {
   "cell_type": "markdown",
   "metadata": {},
   "source": [
    "The data doesn't seem to contain any null-values, now lets check for some duplicate entries."
   ]
  },
  {
   "cell_type": "code",
   "execution_count": 16,
   "metadata": {},
   "outputs": [
    {
     "data": {
      "text/plain": [
       "False    7206\n",
       "True      693\n",
       "dtype: int64"
      ]
     },
     "execution_count": 16,
     "metadata": {},
     "output_type": "execute_result"
    }
   ],
   "source": [
    "combine.duplicated().value_counts()"
   ]
  },
  {
   "cell_type": "markdown",
   "metadata": {},
   "source": [
    "It seems we have some duplicate entries."
   ]
  },
  {
   "cell_type": "code",
   "execution_count": null,
   "metadata": {},
   "outputs": [],
   "source": []
  }
 ],
 "metadata": {
  "kernelspec": {
   "display_name": "base",
   "language": "python",
   "name": "python3"
  },
  "language_info": {
   "codemirror_mode": {
    "name": "ipython",
    "version": 3
   },
   "file_extension": ".py",
   "mimetype": "text/x-python",
   "name": "python",
   "nbconvert_exporter": "python",
   "pygments_lexer": "ipython3",
   "version": "3.11.4"
  }
 },
 "nbformat": 4,
 "nbformat_minor": 2
}
